{
 "cells": [
  {
   "cell_type": "code",
   "execution_count": 25,
   "metadata": {
    "collapsed": true
   },
   "outputs": [],
   "source": [
    "import numpy as np\n",
    "import matplotlib.pyplot as plt\n",
    "from sklearn.cluster import KMeans\n",
    "from sklearn.metrics import pairwise_distances_argmin\n",
    "from sklearn.utils import shuffle\n",
    "from time import time\n",
    "import cv2\n",
    "%matplotlib inline"
   ]
  },
  {
   "cell_type": "markdown",
   "metadata": {},
   "source": [
    "## Constants"
   ]
  },
  {
   "cell_type": "code",
   "execution_count": 45,
   "metadata": {
    "collapsed": true
   },
   "outputs": [],
   "source": [
    "boundaries_of = {\n",
    "    'red': (\n",
    "        np.array([50, 56, 179], dtype='uint8'), \n",
    "        np.array([101, 101, 255], dtype='uint8'),  \n",
    "    ),\n",
    "    'blue': (\n",
    "        np.array([156, 0, 0], dtype='uint8'),\n",
    "        np.array([255, 101, 101], dtype='uint8'),\n",
    "    \n",
    "    )\n",
    "}\n",
    "\n",
    "direction_when_see = {\n",
    "    'red': 'left',\n",
    "    'blue': 'right',\n",
    "}"
   ]
  },
  {
   "cell_type": "markdown",
   "metadata": {},
   "source": [
    "## Image processing utils"
   ]
  },
  {
   "cell_type": "code",
   "execution_count": 33,
   "metadata": {
    "collapsed": true
   },
   "outputs": [],
   "source": [
    "def is_color_in_range(color, lower, upper):\n",
    "    return np.all(lower < cluster_center) and np.all(upper > cluster_center)\n",
    "    \n",
    "\n",
    "def crop_image(image, w_crop_size, h_crop_size=None):\n",
    "    if h_crop_size is None:\n",
    "        h_crop_size = w_crop_size\n",
    "        \n",
    "    w, h, d = tuple(image.shape)\n",
    "    w_lower_bound = int(w * w_crop_size)\n",
    "    w_upper_bound = int(w * (1 - w_crop_size))\n",
    "    h_lower_bound = int(h * h_crop_size)\n",
    "    h_upp,\n",
    "    'blue': 'righer_bound = int(h * (1 - h_crop_size))\n",
    "    \n",
    "    return image[\n",
    "        w_lower_bound: w_upper_bound, \n",
    "        h_lower_bound: h_upper_bound,\n",
    "        :\n",
    "    ]\n",
    "\n",
    "def train_k_means(image_array, n_colors):\n",
    "    image_array_sample = shuffle(image_array, random_state=0)[:500]\n",
    "    kmeans = KMeans(n_clusters=n_colors, random_state=0).fit(image_array_sample)\n",
    "    return kmeans\n",
    "\n",
    "def recreate_image(codebook, labels, w, h):\n",
    "    d = codebook.shape[1]\n",
    "    image = np.zeros((w, h, d))\n",
    "    label_idx = 0\n",
    "    for i in range(w):\n",
    "        for j in range(h):\n",
    "            image[i][j] = codebook[labels[label_idx]]\n",
    "            label_idx += 1\n",
    "    return image"
   ]
  },
  {
   "cell_type": "markdown",
   "metadata": {},
   "source": [
    "## Clusterize the image"
   ]
  },
  {
   "cell_type": "code",
   "execution_count": 43,
   "metadata": {},
   "outputs": [
    {
     "name": "stdout",
     "output_type": "stream",
     "text": [
      "[[ 174.29595016   88.0623053     9.76012461]\n",
      " [ 243.72625698  247.53072626  251.81564246]]\n"
     ]
    },
    {
     "data": {
      "image/png": "[encoded data removed]",
      "text/plain": [
       "<matplotlib.figure.Figure at 0x1a1efcb190>"
      ]
     },
     "metadata": {},
     "output_type": "display_data"
    },
    {
     "name": "stdout",
     "output_type": "stream",
     "text": [
      "CPU times: user 187 ms, sys: 5.76 ms, total: 193 ms\n",
      "Wall time: 193 ms\n"
     ]
    }
   ],
   "source": [
    "%%time\n",
    "image = cv2.imread('test_blue.jpeg')\n",
    "\n",
    "# Uncomment if you need crop\n",
    "# cropped_image = crop_image(image, 0.2)\n",
    "cropped_image = image\n",
    "\n",
    "w, h, d = tuple(cropped_image.shape)\n",
    "image_array = np.reshape(cropped_image, (w * h, d))\n",
    "\n",
    "kmeans = train_k_means(image_array, 2)\n",
    "labels = kmeans.predict(image_array)\n",
    "recreated_image = recreate_image(\n",
    "    kmeans.cluster_centers_, \n",
    "    labels, \n",
    "    w, \n",
    "    h\n",
    ")\n",
    "print kmeans.cluster_centers_\n",
    "\n",
    "\n",
    "plt.figure(1, figsize=(10, 10))\n",
    "plt.imshow(cv2.cvtColor(np.uint8(recreated_image), cv2.COLOR_BGR2RGB))\n",
    "plt.axis('off')\n",
    "plt.show()"
   ]
  },
  {
   "cell_type": "markdown",
   "metadata": {},
   "source": [
    "## Find out the direction to go"
   ]
  },
  {
   "cell_type": "code",
   "execution_count": 46,
   "metadata": {},
   "outputs": [
    {
     "name": "stdout",
     "output_type": "stream",
     "text": [
      "right\n"
     ]
    }
   ],
   "source": [
    "direction_to_go = None\n",
    "needed_colors = boundaries_of.keys()\n",
    "for cluster_center in kmeans.cluster_centers_:\n",
    "    for needed_color in needed_colors:\n",
    "        if is_color_in_range(\n",
    "            cluster_center, \n",
    "            boundaries_of[needed_color][0],\n",
    "            boundaries_of[needed_color][1],\n",
    "        ):\n",
    "            direction_to_go = direction_when_see[needed_color]\n",
    "            \n",
    "print direction_to_go"
   ]
  }
 ],
 "metadata": {
  "kernelspec": {
   "display_name": "Python 2",
   "language": "python",
   "name": "python2"
  },
  "language_info": {
   "codemirror_mode": {
    "name": "ipython",
    "version": 2
   },
   "file_extension": ".py",
   "mimetype": "text/x-python",
   "name": "python",
   "nbconvert_exporter": "python",
   "pygments_lexer": "ipython2",
   "version": "2.7.14"
  }
 },
 "nbformat": 4,
 "nbformat_minor": 2
}
