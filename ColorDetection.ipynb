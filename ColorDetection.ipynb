{
 "cells": [
  {
   "cell_type": "code",
   "execution_count": 1,
   "metadata": {
    "collapsed": true
   },
   "outputs": [],
   "source": [
    "import numpy as np\n",
    "import matplotlib.pyplot as plt\n",
    "from sklearn.cluster import KMeans\n",
    "from sklearn.metrics import pairwise_distances_argmin\n",
    "from sklearn.utils import shuffle\n",
    "from time import time\n",
    "import cv2\n",
    "%matplotlib inline"
   ]
  },
  {
   "cell_type": "markdown",
   "metadata": {},
   "source": [
    "## Constants"
   ]
  },
  {
   "cell_type": "code",
   "execution_count": 2,
   "metadata": {
    "collapsed": true
   },
   "outputs": [],
   "source": [
    "boundaries_of = {\n",
    "    'orange': (\n",
    "        np.array([5, 50, 50], dtype=np.uint8),\n",
    "        np.array([15, 255, 255], dtype=np.uint8)\n",
    "    ),\n",
    "    'green': (\n",
    "        np.array([40, 100, 50], dtype='uint8'),\n",
    "        np.array([80, 255, 255], dtype='uint8'),\n",
    "    )\n",
    "}\n",
    "\n",
    "direction_when_see = {\n",
    "    'red': 'left',\n",
    "    'blue': 'right',\n",
    "}"
   ]
  },
  {
   "cell_type": "markdown",
   "metadata": {},
   "source": [
    "## Image processing utils"
   ]
  },
  {
   "cell_type": "code",
   "execution_count": 3,
   "metadata": {
    "collapsed": true
   },
   "outputs": [],
   "source": [
    "def is_color_in_range(color, lower, upper):\n",
    "    return np.all(lower < cluster_center) and np.all(upper > cluster_center)\n",
    "    \n",
    "\n",
    "def crop_image(image, w_crop_size, h_crop_size=None):\n",
    "    if h_crop_size is None:\n",
    "        h_crop_size = w_crop_size\n",
    "        \n",
    "    w, h, d = tuple(image.shape)\n",
    "    w_lower_bound = int(w * w_crop_size)\n",
    "    w_upper_bound = int(w * (1 - w_crop_size))\n",
    "    h_lower_bound = int(h * h_crop_size)\n",
    "    h_upper_bound = int(h * (1 - h_crop_size))\n",
    "    \n",
    "    return image[\n",
    "        w_lower_bound: w_upper_bound, \n",
    "        h_lower_bound: h_upper_bound,\n",
    "        :\n",
    "    ]\n",
    "\n",
    "def train_k_means(image_array, n_colors):\n",
    "    image_array_sample = shuffle(image_array, random_state=0)[:500]\n",
    "    kmeans = KMeans(n_clusters=n_colors, random_state=0).fit(image_array_sample)\n",
    "    return kmeans\n",
    "\n",
    "def recreate_image(codebook, labels, w, h):\n",
    "    d = codebook.shape[1]\n",
    "    image = np.zeros((w, h, d))\n",
    "    label_idx = 0\n",
    "    for i in range(w):\n",
    "        for j in range(h):\n",
    "            image[i][j] = codebook[labels[label_idx]]\n",
    "            label_idx += 1\n",
    "    return image"
   ]
  },
  {
   "cell_type": "markdown",
   "metadata": {},
   "source": [
    "## Clusterize the image"
   ]
  },
  {
   "cell_type": "code",
   "execution_count": 4,
   "metadata": {},
   "outputs": [
    {
     "name": "stdout",
     "output_type": "stream",
     "text": [
      "[[  33.97767857  151.24553571  244.60714286]\n",
      " [ 238.07971014  247.11231884  252.93478261]]\n"
     ]
    },
    {
     "data": {
      "image/png": "[encoded data removed]",
      "text/plain": [
       "<matplotlib.figure.Figure at 0x109457250>"
      ]
     },
     "metadata": {},
     "output_type": "display_data"
    },
    {
     "name": "stdout",
     "output_type": "stream",
     "text": [
      "CPU times: user 386 ms, sys: 53 ms, total: 439 ms\n",
      "Wall time: 499 ms\n"
     ]
    }
   ],
   "source": [
    "%%time\n",
    "image = cv2.imread('orange.jpeg')\n",
    "\n",
    "# Uncomment if you need crop\n",
    "# cropped_image = crop_image(image, 0.2)\n",
    "cropped_image = image\n",
    "\n",
    "w, h, d = tuple(cropped_image.shape)\n",
    "image_array = np.reshape(cropped_image, (w * h, d))\n",
    "\n",
    "kmeans = train_k_means(image_array, 2)\n",
    "labels = kmeans.predict(image_array)\n",
    "recreated_image = recreate_image(\n",
    "    kmeans.cluster_centers_, \n",
    "    labels, \n",
    "    w, \n",
    "    h\n",
    ")\n",
    "print kmeans.cluster_centers_\n",
    "\n",
    "\n",
    "plt.figure(1, figsize=(10, 10))\n",
    "plt.imshow(cv2.cvtColor(np.uint8(recreated_image), cv2.COLOR_BGR2RGB))\n",
    "plt.axis('off')\n",
    "plt.show()"
   ]
  },
  {
   "cell_type": "markdown",
   "metadata": {},
   "source": [
    "## Find out the direction to go"
   ]
  },
  {
   "cell_type": "code",
   "execution_count": 46,
   "metadata": {},
   "outputs": [
    {
     "name": "stdout",
     "output_type": "stream",
     "text": [
      "right\n"
     ]
    }
   ],
   "source": [
    "direction_to_go = None\n",
    "needed_colors = boundaries_of.keys()\n",
    "for cluster_center in kmeans.cluster_centers_:\n",
    "    for needed_color in needed_colors:\n",
    "        if is_color_in_range(\n",
    "            cluster_center, \n",
    "            boundaries_of[needed_color][0],\n",
    "            boundaries_of[needed_color][1],\n",
    "        ):\n",
    "            direction_to_go = direction_when_see[needed_color]\n",
    "            \n",
    "print direction_to_go"
   ]
  },
  {
   "cell_type": "markdown",
   "metadata": {},
   "source": [
    "# Color Detection using mask"
   ]
  },
  {
   "cell_type": "code",
   "execution_count": 6,
   "metadata": {},
   "outputs": [
    {
     "name": "stdout",
     "output_type": "stream",
     "text": [
      "2570\n",
      "9356\n"
     ]
    },
    {
     "data": {
      "text/plain": [
       "True"
      ]
     },
     "execution_count": 6,
     "metadata": {},
     "output_type": "execute_result"
    },
    {
     "data": {
      "image/png": "[encoded data removed]",
      "text/plain": [
       "<matplotlib.figure.Figure at 0x10ef27cd0>"
      ]
     },
     "metadata": {},
     "output_type": "display_data"
    }
   ],
   "source": [
    "def divide_image(image):\n",
    "    height, width = image.shape[:2]\n",
    "    start_row, start_col = 0, 0\n",
    "    col = int(width / 3)\n",
    "    left = image[start_row:col, :]\n",
    "    center = image[col:col * 2, :]\n",
    "    right = image[col * 2:col * 3, :]\n",
    "    return left, center, right\n",
    "\n",
    "def is_color_in_range(image, range_):\n",
    "    hsv = cv2.cvtColor(image, cv2.COLOR_BGR2HSV)\n",
    "    mask = cv2.inRange(hsv, range_[0], range_[1])\n",
    "    pixels_count = cv2.countNonZero(mask)\n",
    "    print(cv2.countNonZero(divide_image(mask)[0]))\n",
    "    output = cv2.bitwise_and(image, image, mask = mask)\n",
    " \n",
    "\n",
    "\n",
    "    plt.imshow(cv2.cvtColor(np.uint8(output), cv2.COLOR_BGR2RGB)) \n",
    "\n",
    "    print pixels_count\n",
    "    return pixels_count > 5000\n",
    "\n",
    "\n",
    "\n",
    "is_color_in_range(image, boundaries_of['orange'])\n"
   ]
  }
 ],
 "metadata": {
  "kernelspec": {
   "display_name": "Python 2",
   "language": "python",
   "name": "python2"
  },
  "language_info": {
   "codemirror_mode": {
    "name": "ipython",
    "version": 2
   },
   "file_extension": ".py",
   "mimetype": "text/x-python",
   "name": "python",
   "nbconvert_exporter": "python",
   "pygments_lexer": "ipython2",
   "version": "2.7.14"
  }
 },
 "nbformat": 4,
 "nbformat_minor": 2
}
